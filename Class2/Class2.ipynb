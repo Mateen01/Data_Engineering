{
 "cells": [
  {
   "cell_type": "code",
   "execution_count": 5,
   "id": "47f4165d-fa67-4ded-99fc-1a60cab72841",
   "metadata": {},
   "outputs": [],
   "source": [
    "age =2"
   ]
  },
  {
   "cell_type": "code",
   "execution_count": 6,
   "id": "4e153872-9b2e-4355-b474-84307d652589",
   "metadata": {},
   "outputs": [
    {
     "name": "stdout",
     "output_type": "stream",
     "text": [
      "2\n"
     ]
    }
   ],
   "source": [
    "print(age)"
   ]
  },
  {
   "cell_type": "code",
   "execution_count": 10,
   "id": "653b780c-87ba-4050-9e22-ed963177fb09",
   "metadata": {},
   "outputs": [
    {
     "name": "stdout",
     "output_type": "stream",
     "text": [
      "0.5\n"
     ]
    }
   ],
   "source": [
    "age /= 2\n",
    "\n",
    "print(age)"
   ]
  },
  {
   "cell_type": "code",
   "execution_count": null,
   "id": "846dc970-10d3-44d0-a565-c8f17268c1ad",
   "metadata": {},
   "outputs": [],
   "source": []
  }
 ],
 "metadata": {
  "kernelspec": {
   "display_name": "Python 3 (ipykernel)",
   "language": "python",
   "name": "python3"
  },
  "language_info": {
   "codemirror_mode": {
    "name": "ipython",
    "version": 3
   },
   "file_extension": ".py",
   "mimetype": "text/x-python",
   "name": "python",
   "nbconvert_exporter": "python",
   "pygments_lexer": "ipython3",
   "version": "3.12.2"
  }
 },
 "nbformat": 4,
 "nbformat_minor": 5
}
