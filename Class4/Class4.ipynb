{
 "cells": [
  {
   "cell_type": "markdown",
   "id": "43ab1d92-5626-4009-a65a-2fbf445ebc33",
   "metadata": {},
   "source": [
    "# Python Dictionaries"
   ]
  },
  {
   "cell_type": "code",
   "execution_count": 4,
   "id": "89e4638b-aa59-47f4-a977-1b9c70067e28",
   "metadata": {},
   "outputs": [],
   "source": [
    "Customers = {\"Customer1\":{\"firstname\":\"Ali\",\"lastname\":\"Zohair\",\"address\":\"Karachi\"},\"Customer2\":{\"firstname\":\"Nadeem\",\"lastname\":\"Shahmeer\",\"address\":\"Lahore\"}}"
   ]
  },
  {
   "cell_type": "code",
   "execution_count": 5,
   "id": "53974e3a-abee-4ecc-939c-130912d5d9fe",
   "metadata": {},
   "outputs": [
    {
     "name": "stdout",
     "output_type": "stream",
     "text": [
      "{'Customer1': {'firstname': 'Ali', 'lastname': 'Zohair', 'address': 'Karachi'}, 'Customer2': {'firstname': 'Nadeem', 'lastname': 'Shahmeer', 'address': 'Lahore'}}\n"
     ]
    }
   ],
   "source": [
    "print(Customers)"
   ]
  },
  {
   "cell_type": "code",
   "execution_count": 6,
   "id": "ac097165-a3d3-43a3-9ba1-6a9e22fbf643",
   "metadata": {},
   "outputs": [
    {
     "name": "stdout",
     "output_type": "stream",
     "text": [
      "{'firstname': 'Ali', 'lastname': 'Zohair', 'address': 'Karachi'}\n"
     ]
    }
   ],
   "source": [
    "print(Customers[\"Customer1\"])"
   ]
  },
  {
   "cell_type": "code",
   "execution_count": 10,
   "id": "9984aa96-8e7d-41b8-a2e8-74e6cdb10526",
   "metadata": {},
   "outputs": [],
   "source": [
    "x= Customers[\"Customer1\"]\n",
    "x[\"order_price\"] = \"1100\"\n",
    "\n",
    "# or there is slicing method:\n",
    "# Customers[\"Customer1\"][\"order_date\"]=\"25-Nov-2021\""
   ]
  },
  {
   "cell_type": "code",
   "execution_count": 9,
   "id": "4cacf3f7-d1ff-4ce6-ac93-c5701e14cec7",
   "metadata": {},
   "outputs": [
    {
     "name": "stdout",
     "output_type": "stream",
     "text": [
      "{'firstname': 'Ali', 'lastname': 'Zohair', 'address': 'Karachi', 'order_price': '1100'}\n"
     ]
    }
   ],
   "source": [
    "print(Customers[\"Customer1\"])"
   ]
  },
  {
   "cell_type": "code",
   "execution_count": 12,
   "id": "74b4c041-6677-40a5-934c-67e484dd10a5",
   "metadata": {},
   "outputs": [],
   "source": [
    "trying = {True:\"yes\",False:\"not\"}"
   ]
  },
  {
   "cell_type": "code",
   "execution_count": 13,
   "id": "fcd2818a-04ad-408d-be59-3d0fecfdf55c",
   "metadata": {},
   "outputs": [
    {
     "name": "stdout",
     "output_type": "stream",
     "text": [
      "{True: 'yes', False: 'not'}\n"
     ]
    }
   ],
   "source": [
    "print(trying)"
   ]
  },
  {
   "cell_type": "code",
   "execution_count": 14,
   "id": "7d21683b-b835-4a7e-ab98-aa3330caa72c",
   "metadata": {},
   "outputs": [],
   "source": [
    "x=0"
   ]
  },
  {
   "cell_type": "code",
   "execution_count": null,
   "id": "3d7c826c-0415-483f-a2b4-3402d91af395",
   "metadata": {},
   "outputs": [],
   "source": []
  },
  {
   "cell_type": "code",
   "execution_count": 15,
   "id": "c7e68efb-d807-4080-b8b8-83fe0a778a4c",
   "metadata": {},
   "outputs": [],
   "source": [
    "my_dict = {x:1}"
   ]
  },
  {
   "cell_type": "code",
   "execution_count": 16,
   "id": "f2fd4ce1-f95c-4514-9c2a-a8808a525e39",
   "metadata": {},
   "outputs": [
    {
     "name": "stdout",
     "output_type": "stream",
     "text": [
      "{0: 1}\n"
     ]
    }
   ],
   "source": [
    "print(my_dict)"
   ]
  },
  {
   "cell_type": "code",
   "execution_count": 23,
   "id": "451320b9-6726-4ac6-ad6e-503710363dd0",
   "metadata": {},
   "outputs": [
    {
     "name": "stdout",
     "output_type": "stream",
     "text": [
      "dict_keys(['Customer1', 'Customer2']) dict_values([{'firstname': 'Ali', 'lastname': 'Zohair', 'address': 'Karachi', 'order_price': '1100'}, {'firstname': 'Nadeem', 'lastname': 'Shahmeer', 'address': 'Lahore'}])\n"
     ]
    }
   ],
   "source": [
    "print(Customers.keys(),Customers.values())"
   ]
  },
  {
   "cell_type": "code",
   "execution_count": 32,
   "id": "8b733271-a949-4aaf-80e8-5b3068ade95e",
   "metadata": {},
   "outputs": [
    {
     "name": "stdout",
     "output_type": "stream",
     "text": [
      "Customer1\n",
      "{'firstname': 'Ali', 'lastname': 'Zohair', 'address': 'Karachi', 'order_price': '1100'}\n",
      "Customer2\n",
      "{'firstname': 'Nadeem', 'lastname': 'Shahmeer', 'address': 'Lahore'}\n"
     ]
    }
   ],
   "source": [
    "for j in Customers.items():\n",
    "    for keys in j:\n",
    "        print(keys)\n",
    "    # print(\"key\" ,\"=>\",keys)"
   ]
  },
  {
   "cell_type": "code",
   "execution_count": 105,
   "id": "8c7da889-7c63-483b-91a7-dcdcb851cea5",
   "metadata": {},
   "outputs": [
    {
     "name": "stdout",
     "output_type": "stream",
     "text": [
      "Customer number: 0\n",
      "firstname Ali\n",
      "lastname Zohair\n",
      "address Karachi\n",
      "\n",
      "Customer number: 1\n",
      "firstname Nadeem\n",
      "lastname Shahmeer\n",
      "address Lahore\n",
      "\n"
     ]
    }
   ],
   "source": [
    "Customers_list_of_dict = {\n",
    "    \"firstname\" : []\n",
    "    ,\"lastname\" : []\n",
    "    ,\"address\"  : []\n",
    "}\n",
    "\n",
    "for i in Customers.values() :\n",
    "     Customers_list_of_dict[\"firstname\"].append(i[\"firstname\"])\n",
    "     Customers_list_of_dict[\"lastname\"].append(i[\"lastname\"])\n",
    "     Customers_list_of_dict[\"address\"].append(i[\"address\"])\n",
    "     # print(i[\"firstname\"])\n",
    "\n",
    "# for keys,value in Customers_list_of_dict.items():\n",
    "#     i=1\n",
    "#     i< len(Customers_list_of_dict)\n",
    "#     # print(i[0],i[len(i)-1]?)\n",
    "#     print(keys,value[i],i)\n",
    "\n",
    "\n",
    "for i in range(len(Customers_list_of_dict[\"firstname\"])):\n",
    "    print(\"Customer number:\", i)\n",
    "    for key, value in Customers_list_of_dict.items():\n",
    "        print(f\"{key} {value[i]}\")\n",
    "    print()"
   ]
  },
  {
   "cell_type": "code",
   "execution_count": null,
   "id": "e59472a9-1642-4002-8af1-59af0c67a0a9",
   "metadata": {},
   "outputs": [],
   "source": []
  },
  {
   "cell_type": "code",
   "execution_count": null,
   "id": "ac9e157e-8184-43cc-aa23-9b82f479d075",
   "metadata": {},
   "outputs": [],
   "source": []
  }
 ],
 "metadata": {
  "kernelspec": {
   "display_name": "Python 3 (ipykernel)",
   "language": "python",
   "name": "python3"
  },
  "language_info": {
   "codemirror_mode": {
    "name": "ipython",
    "version": 3
   },
   "file_extension": ".py",
   "mimetype": "text/x-python",
   "name": "python",
   "nbconvert_exporter": "python",
   "pygments_lexer": "ipython3",
   "version": "3.12.2"
  }
 },
 "nbformat": 4,
 "nbformat_minor": 5
}
